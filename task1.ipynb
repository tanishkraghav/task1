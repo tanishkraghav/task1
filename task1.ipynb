{
  "nbformat": 4,
  "nbformat_minor": 0,
  "metadata": {
    "colab": {
      "provenance": []
    },
    "kernelspec": {
      "name": "python3",
      "display_name": "Python 3"
    },
    "language_info": {
      "name": "python"
    }
  },
  "cells": [
    {
      "cell_type": "code",
      "source": [
        "import pandas as pd\n",
        "\n",
        "# Load the dataset\n",
        "file_path = \"/content/marketing_campaign_dirty.xlsx\"  # Update this path if needed\n",
        "df = pd.read_excel(file_path)\n",
        "\n",
        "# Step 1: Standardize column names\n",
        "df.columns = df.columns.str.strip().str.lower().str.replace(' ', '_').str.replace(r'[^\\w\\s]', '', regex=True)\n",
        "\n",
        "# Step 2: Remove duplicate rows\n",
        "df = df.drop_duplicates()\n",
        "\n",
        "# Step 3: Handle missing values\n",
        "# Drop columns with more than 50% missing values\n",
        "threshold = len(df) * 0.5\n",
        "df = df.dropna(thresh=threshold, axis=1)\n",
        "\n",
        "# For remaining missing values, fill with appropriate strategies\n",
        "for col in df.columns:\n",
        "    if df[col].dtype == 'object':\n",
        "        df[col] = df[col].fillna('Unknown')\n",
        "    else:\n",
        "        df[col] = df[col].fillna(df[col].median())\n",
        "\n",
        "# Step 4: Trim whitespace from string columns\n",
        "df = df.applymap(lambda x: x.strip() if isinstance(x, str) else x)\n",
        "\n",
        "# Step 5: Fix data types if needed (example: convert date columns)\n",
        "# df['date_column'] = pd.to_datetime(df['date_column'])  # Uncomment and edit as needed\n",
        "\n",
        "# Save the cleaned data\n",
        "df.to_excel(\"marketing_campaign_cleaned.xlsx\", index=False)\n",
        "print(\"Cleaned dataset saved as 'marketing_campaign_cleaned.xlsx'\")\n"
      ],
      "metadata": {
        "colab": {
          "base_uri": "https://localhost:8080/"
        },
        "id": "fHxi2_ohUQ5q",
        "outputId": "1b59a6a0-92af-4b33-ecd9-ca2134d13968"
      },
      "execution_count": 3,
      "outputs": [
        {
          "output_type": "stream",
          "name": "stderr",
          "text": [
            "<ipython-input-3-0e0fba616cbd>:26: FutureWarning: DataFrame.applymap has been deprecated. Use DataFrame.map instead.\n",
            "  df = df.applymap(lambda x: x.strip() if isinstance(x, str) else x)\n"
          ]
        },
        {
          "output_type": "stream",
          "name": "stdout",
          "text": [
            "Cleaned dataset saved as 'marketing_campaign_cleaned.xlsx'\n"
          ]
        }
      ]
    }
  ]
}